{
 "cells": [
  {
   "cell_type": "code",
   "execution_count": null,
   "id": "d4319b31",
   "metadata": {},
   "outputs": [],
   "source": [
    "import mysql.connector as connector\n",
    "from mysql.connector import errorcode"
   ]
  },
  {
   "cell_type": "code",
   "execution_count": null,
   "id": "63753677",
   "metadata": {},
   "outputs": [],
   "source": [
    "# TASK 1 CONNECTING TO DATABASE\n",
    "dbconfig = {\n",
    "    \"database\" : \"littlelemondb\", \n",
    "    \"user\" : \"Your User\",\n",
    "    \"password\" : \"Your Password\"\n",
    "}\n",
    "\n",
    "#establish a connection to database\n",
    "try:\n",
    "    connection = connector.connect(**dbconfig)\n",
    "    print(\"Connection established!\")\n",
    "except connector.Error as err:\n",
    "    if err.errno == errorcode.ER_ACCESS_DENIED_ERROR:\n",
    "        print(\"Connection user or passwords are incorrect\")\n",
    "    elif err.errno == errorcode.ER_BAD_DB_ERROR:\n",
    "        print(\"Database does not exist\")\n",
    "    else:\n",
    "        print(\"Error code:\", err.errno)\n",
    "        print(\"Error message:\", err.msg)"
   ]
  },
  {
   "cell_type": "code",
   "execution_count": null,
   "id": "f9be1660",
   "metadata": {},
   "outputs": [],
   "source": [
    "# TASK 2 QUERY THE \n",
    "#this will show available tables\n",
    "cursor = connection.cursor(buffered=True)\n",
    "\n",
    "show_tables_query = \"\"\"\n",
    "SHOW tables;\n",
    "\"\"\"\n",
    "\n",
    "cursor.execute(show_tables_query)\n",
    "results = cursor.fetchall()\n",
    "for res in results:\n",
    "    print(res)\n",
    "\n",
    "cursor.close()"
   ]
  },
  {
   "cell_type": "code",
   "execution_count": null,
   "id": "d37204f6",
   "metadata": {},
   "outputs": [],
   "source": [
    "# TASK 3 QUERY A TABLE WITH JOIN\n",
    "#this query will show full name, contact detail, and customer that spends over $60\n",
    "cursor = connection.cursor()\n",
    "\n",
    "query = \"\"\"\n",
    "SELECT\n",
    "    o.OrderID,\n",
    "    c.FullName,\n",
    "    c.Number,\n",
    "    c.Email\n",
    "FROM orders AS o\n",
    "INNER JOIN customers AS c USING (CustomerID)\n",
    "WHERE o.TotalPrice > 60;\n",
    "\"\"\"\n",
    "\n",
    "cursor.execute(query)\n",
    "result = cursor.fetchall()\n",
    "headers = cursor.column_names\n",
    "print(headers)\n",
    "for res in result:\n",
    "    print(res)\n",
    "\n",
    "cursor.close()"
   ]
  }
 ],
 "metadata": {
  "kernelspec": {
   "display_name": "Python 3 (ipykernel)",
   "language": "python",
   "name": "python3"
  },
  "language_info": {
   "codemirror_mode": {
    "name": "ipython",
    "version": 3
   },
   "file_extension": ".py",
   "mimetype": "text/x-python",
   "name": "python",
   "nbconvert_exporter": "python",
   "pygments_lexer": "ipython3",
   "version": "3.9.13"
  }
 },
 "nbformat": 4,
 "nbformat_minor": 5
}
