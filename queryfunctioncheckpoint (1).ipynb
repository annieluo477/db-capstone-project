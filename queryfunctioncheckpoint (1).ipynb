{
 "cells": [
  {
   "cell_type": "code",
   "execution_count": null,
   "id": "18948809",
   "metadata": {},
   "outputs": [],
   "source": [
    "#install connector api using the command below.\n",
    "!pip install mysql-connector-python\n",
    "\n",
    "# Import the MySQL Connector/Python\n",
    "import mysql.connector as connector\n",
    "\n",
    "# Establish connection between Python and MySQL database via connector API\n",
    "connection=connector.connect(\n",
    "                             user=\"root\", \n",
    "                             password=\"1298\",\n",
    "                             db=\"littlelemondb\"\n",
    "                            )\n",
    "print(\"Connection between MySQL and Python is established.\\n\")"
   ]
  },
  {
   "cell_type": "code",
   "execution_count": null,
   "id": "dc6ec74b",
   "metadata": {},
   "outputs": [],
   "source": [
    "#cursor object\n",
    "cursor = connection.cursor()\n",
    "print(\"Cursor is created to communicate with the MySQL using Python.\\n\")"
   ]
  },
  {
   "cell_type": "code",
   "execution_count": null,
   "id": "91728a3d",
   "metadata": {},
   "outputs": [],
   "source": [
    "# Task 2\n",
    "show_tables_query = \"SHOW tables\" \n",
    "results = cursor.execute(show_tables_query)\n",
    "results = cursor.fetchall()\n",
    "print(results)"
   ]
  },
  {
   "cell_type": "code",
   "execution_count": null,
   "id": "39d07b29",
   "metadata": {},
   "outputs": [],
   "source": [
    "# Task 3\n",
    "query_str = \"\"\"\n",
    "Use LittleLemonDB;\n",
    "SELECT c.CustomerID, c.Name, o.OrderID, o.TotalCost as Cost, m.Name as MenuName\n",
    "FROM Customer as c JOIN Booking as b ON c.CustomerID = b.Customer_CustomerID\n",
    "JOIN LittleLemonDB.Order as o On o.Booking_BookingID = b.BookingID\n",
    "JOIN Order_Menu as om ON om.Order_OrderID = o.OrderID\n",
    "JOIN Menu as m On m.MenuID = om.Menu_MenuID\n",
    "WHERE o.TotalCost > 60\n",
    "ORDER BY o.TotalCost ASC;\n",
    "\"\"\"\n",
    "\n",
    "cursor.execute(query_str)\n",
    "results = cursor.fetchall()\n",
    "\n",
    "# print the results\n",
    "print(cursor.column_names)\n",
    "for row in results:\n",
    "    print(row)"
   ]
  },
  {
   "cell_type": "code",
   "execution_count": null,
   "id": "f2e33e8d",
   "metadata": {},
   "outputs": [],
   "source": []
  }
 ],
 "metadata": {
  "kernelspec": {
   "display_name": "Python 3 (ipykernel)",
   "language": "python",
   "name": "python3"
  },
  "language_info": {
   "codemirror_mode": {
    "name": "ipython",
    "version": 3
   },
   "file_extension": ".py",
   "mimetype": "text/x-python",
   "name": "python",
   "nbconvert_exporter": "python",
   "pygments_lexer": "ipython3",
   "version": "3.9.13"
  }
 },
 "nbformat": 4,
 "nbformat_minor": 5
}
