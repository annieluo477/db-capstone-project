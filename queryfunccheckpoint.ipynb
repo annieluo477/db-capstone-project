{
 "cells": [
  {
   "cell_type": "code",
   "execution_count": null,
   "id": "f9401d83",
   "metadata": {},
   "outputs": [],
   "source": [
    "import mysql.connector as connector\n",
    "\n",
    "# replace the values in the following line with your own user details and database name\n",
    "connection = connector.connect(user=\"your_username\", password=\"your_password\", database=\"your_database\")\n",
    "\n",
    "if connection.is_connected():\n",
    "    # create a cursor object to execute queries\n",
    "    cursor = connection.cursor()\n",
    "\n",
    "    # execute the query to join the Orders and Customers tables\n",
    "    query = \"SELECT Customers.FullName, Customers.ContactDetails, Orders.TotalCost \\\n",
    "             FROM Orders \\\n",
    "             INNER JOIN Customers ON Orders.CustomerID = Customers.CustomerID \\\n",
    "             WHERE Orders.TotalCost > 60\"\n",
    "    cursor.execute(query)\n",
    "\n",
    "    # fetch all the rows from the query result\n",
    "    results = cursor.fetchall()\n",
    "\n",
    "    # print the results\n",
    "    for result in results:\n",
    "        print(result)\n",
    "\n",
    "    # close the cursor and connection\n",
    "    cursor.close()\n",
    "    connection.close()\n",
    "\n",
    "else:\n",
    "    print(\"Failed to connect to database\")\n"
   ]
  }
 ],
 "metadata": {
  "kernelspec": {
   "display_name": "Python 3 (ipykernel)",
   "language": "python",
   "name": "python3"
  },
  "language_info": {
   "codemirror_mode": {
    "name": "ipython",
    "version": 3
   },
   "file_extension": ".py",
   "mimetype": "text/x-python",
   "name": "python",
   "nbconvert_exporter": "python",
   "pygments_lexer": "ipython3",
   "version": "3.9.13"
  }
 },
 "nbformat": 4,
 "nbformat_minor": 5
}
